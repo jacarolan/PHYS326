{
 "cells": [
  {
   "cell_type": "code",
   "execution_count": 1,
   "metadata": {},
   "outputs": [],
   "source": [
    "import numpy as np\n",
    "import matplotlib.pyplot as plt"
   ]
  },
  {
   "cell_type": "code",
   "execution_count": 2,
   "metadata": {},
   "outputs": [],
   "source": [
    "def g(x, alpha):\n",
    "    return alpha * np.sin(x * np.pi)\n",
    "\n",
    "def f(x, alpha, iters):\n",
    "    for i in range(iters):\n",
    "        x = g(x, alpha)\n",
    "    return x"
   ]
  },
  {
   "cell_type": "code",
   "execution_count": 5,
   "metadata": {},
   "outputs": [
    {
     "data": {
      "image/png": "[encoded data removed]",
      "text/plain": [
       "<Figure size 432x288 with 1 Axes>"
      ]
     },
     "metadata": {
      "needs_background": "light"
     },
     "output_type": "display_data"
    }
   ],
   "source": [
    "P=np.linspace(0,1,1000)\n",
    "# Initialize your data containers identically\n",
    "X = []\n",
    "Y = []\n",
    "m = 0\n",
    "# l is never used, I removed it.\n",
    "for u in P:\n",
    "    # Add one value to X instead of resetting it.\n",
    "    X.append(u)\n",
    "    # Start with a random value of m instead of remaining stuck\n",
    "    # on a particular branch of the diagram\n",
    "    m = f(np.random.random(), u, 1000)\n",
    "    # Collection of data in Y must be done once per value of u\n",
    "    Y.append(m)\n",
    "# Remove the line between successive data points, this renders\n",
    "# the plot illegible. Use a small marker instead.\n",
    "plt.plot(X, Y, ls='', marker=',')\n",
    "plt.show()"
   ]
  }
 ],
 "metadata": {
  "kernelspec": {
   "display_name": "Python 3",
   "language": "python",
   "name": "python3"
  },
  "language_info": {
   "codemirror_mode": {
    "name": "ipython",
    "version": 3
   },
   "file_extension": ".py",
   "mimetype": "text/x-python",
   "name": "python",
   "nbconvert_exporter": "python",
   "pygments_lexer": "ipython3",
   "version": "3.7.3"
  }
 },
 "nbformat": 4,
 "nbformat_minor": 2
}
